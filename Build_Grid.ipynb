{
 "cells": [
  {
   "cell_type": "code",
   "execution_count": 4,
   "metadata": {},
   "outputs": [
    {
     "ename": "KeyboardInterrupt",
     "evalue": "",
     "output_type": "error",
     "traceback": [
      "\u001b[31m---------------------------------------------------------------------------\u001b[39m",
      "\u001b[31mStopIteration\u001b[39m                             Traceback (most recent call last)",
      "\u001b[36mFile \u001b[39m\u001b[32m/opt/homebrew/Cellar/python@3.13/3.13.3/Frameworks/Python.framework/Versions/3.13/lib/python3.13/inspect.py:3137\u001b[39m, in \u001b[36mSignature._bind\u001b[39m\u001b[34m(self, args, kwargs, partial)\u001b[39m\n\u001b[32m   3136\u001b[39m \u001b[38;5;28;01mtry\u001b[39;00m:\n\u001b[32m-> \u001b[39m\u001b[32m3137\u001b[39m     arg_val = \u001b[38;5;28;43mnext\u001b[39;49m\u001b[43m(\u001b[49m\u001b[43marg_vals\u001b[49m\u001b[43m)\u001b[49m\n\u001b[32m   3138\u001b[39m \u001b[38;5;28;01mexcept\u001b[39;00m \u001b[38;5;167;01mStopIteration\u001b[39;00m:\n\u001b[32m   3139\u001b[39m     \u001b[38;5;66;03m# No more positional arguments\u001b[39;00m\n",
      "\u001b[31mStopIteration\u001b[39m: ",
      "\nDuring handling of the above exception, another exception occurred:\n",
      "\u001b[31mKeyboardInterrupt\u001b[39m                         Traceback (most recent call last)",
      "\u001b[36mCell\u001b[39m\u001b[36m \u001b[39m\u001b[32mIn[4]\u001b[39m\u001b[32m, line 19\u001b[39m\n\u001b[32m     17\u001b[39m \u001b[38;5;28;01mfor\u001b[39;00m x \u001b[38;5;129;01min\u001b[39;00m x_coords:\n\u001b[32m     18\u001b[39m     \u001b[38;5;28;01mfor\u001b[39;00m y \u001b[38;5;129;01min\u001b[39;00m y_coords:\n\u001b[32m---> \u001b[39m\u001b[32m19\u001b[39m         cell_geom = \u001b[43mbox\u001b[49m\u001b[43m(\u001b[49m\u001b[43mx\u001b[49m\u001b[43m,\u001b[49m\u001b[43m \u001b[49m\u001b[43my\u001b[49m\u001b[43m,\u001b[49m\u001b[43m \u001b[49m\u001b[43mx\u001b[49m\u001b[43m+\u001b[49m\u001b[43mcell_size\u001b[49m\u001b[43m,\u001b[49m\u001b[43m \u001b[49m\u001b[43my\u001b[49m\u001b[43m+\u001b[49m\u001b[43mcell_size\u001b[49m\u001b[43m)\u001b[49m\n\u001b[32m     20\u001b[39m         cell_center = ((x + x + cell_size)/\u001b[32m2\u001b[39m, (y + y + cell_size)/\u001b[32m2\u001b[39m)\n\u001b[32m     21\u001b[39m         cells.append({\n\u001b[32m     22\u001b[39m             \u001b[33m'\u001b[39m\u001b[33mcell_id\u001b[39m\u001b[33m'\u001b[39m: \u001b[33mf\u001b[39m\u001b[33m\"\u001b[39m\u001b[38;5;132;01m{\u001b[39;00m\u001b[38;5;28mint\u001b[39m(cell_center[\u001b[32m0\u001b[39m])\u001b[38;5;132;01m}\u001b[39;00m\u001b[33m_\u001b[39m\u001b[38;5;132;01m{\u001b[39;00m\u001b[38;5;28mint\u001b[39m(cell_center[\u001b[32m1\u001b[39m])\u001b[38;5;132;01m}\u001b[39;00m\u001b[33m\"\u001b[39m,\n\u001b[32m     23\u001b[39m             \u001b[33m'\u001b[39m\u001b[33mgeometry\u001b[39m\u001b[33m'\u001b[39m: cell_geom,\n\u001b[32m     24\u001b[39m             \u001b[33m'\u001b[39m\u001b[33mcenter\u001b[39m\u001b[33m'\u001b[39m: cell_center,\n\u001b[32m     25\u001b[39m             \u001b[33m'\u001b[39m\u001b[33mscore\u001b[39m\u001b[33m'\u001b[39m: \u001b[32m0\u001b[39m\n\u001b[32m     26\u001b[39m         })\n",
      "\u001b[36mFile \u001b[39m\u001b[32m~/Desktop/El Dorado/venv/lib/python3.13/site-packages/shapely/geometry/geo.py:51\u001b[39m, in \u001b[36mbox\u001b[39m\u001b[34m(minx, miny, maxx, maxy, ccw)\u001b[39m\n\u001b[32m     49\u001b[39m \u001b[38;5;28;01mif\u001b[39;00m \u001b[38;5;129;01mnot\u001b[39;00m ccw:\n\u001b[32m     50\u001b[39m     coords = coords[::-\u001b[32m1\u001b[39m]\n\u001b[32m---> \u001b[39m\u001b[32m51\u001b[39m \u001b[38;5;28;01mreturn\u001b[39;00m \u001b[43mPolygon\u001b[49m\u001b[43m(\u001b[49m\u001b[43mcoords\u001b[49m\u001b[43m)\u001b[49m\n",
      "\u001b[36mFile \u001b[39m\u001b[32m~/Desktop/El Dorado/venv/lib/python3.13/site-packages/shapely/geometry/polygon.py:246\u001b[39m, in \u001b[36mPolygon.__new__\u001b[39m\u001b[34m(self, shell, holes)\u001b[39m\n\u001b[32m    243\u001b[39m     \u001b[38;5;28;01melse\u001b[39;00m:\n\u001b[32m    244\u001b[39m         holes = [LinearRing(ring) \u001b[38;5;28;01mfor\u001b[39;00m ring \u001b[38;5;129;01min\u001b[39;00m holes]\n\u001b[32m--> \u001b[39m\u001b[32m246\u001b[39m geom = \u001b[43mshapely\u001b[49m\u001b[43m.\u001b[49m\u001b[43mpolygons\u001b[49m\u001b[43m(\u001b[49m\u001b[43mshell\u001b[49m\u001b[43m,\u001b[49m\u001b[43m \u001b[49m\u001b[43mholes\u001b[49m\u001b[43m=\u001b[49m\u001b[43mholes\u001b[49m\u001b[43m)\u001b[49m\n\u001b[32m    247\u001b[39m \u001b[38;5;28;01mif\u001b[39;00m \u001b[38;5;129;01mnot\u001b[39;00m \u001b[38;5;28misinstance\u001b[39m(geom, Polygon):\n\u001b[32m    248\u001b[39m     \u001b[38;5;28;01mraise\u001b[39;00m \u001b[38;5;167;01mValueError\u001b[39;00m(\u001b[33m\"\u001b[39m\u001b[33mInvalid values passed to Polygon constructor\u001b[39m\u001b[33m\"\u001b[39m)\n",
      "\u001b[36mFile \u001b[39m\u001b[32m~/Desktop/El Dorado/venv/lib/python3.13/site-packages/shapely/decorators.py:106\u001b[39m, in \u001b[36mdeprecate_positional.<locals>.decorator.<locals>.wrapper\u001b[39m\u001b[34m(*args, **kwargs)\u001b[39m\n\u001b[32m    104\u001b[39m \u001b[38;5;66;03m# check signature to see which positional args were used\u001b[39;00m\n\u001b[32m    105\u001b[39m sig = inspect.signature(func)\n\u001b[32m--> \u001b[39m\u001b[32m106\u001b[39m args_bind = \u001b[43msig\u001b[49m\u001b[43m.\u001b[49m\u001b[43mbind_partial\u001b[49m\u001b[43m(\u001b[49m\u001b[43m*\u001b[49m\u001b[43margs\u001b[49m\u001b[43m)\u001b[49m\n\u001b[32m    107\u001b[39m warn_args = [\n\u001b[32m    108\u001b[39m     \u001b[33mf\u001b[39m\u001b[33m\"\u001b[39m\u001b[33m`\u001b[39m\u001b[38;5;132;01m{\u001b[39;00marg\u001b[38;5;132;01m}\u001b[39;00m\u001b[33m`\u001b[39m\u001b[33m\"\u001b[39m\n\u001b[32m    109\u001b[39m     \u001b[38;5;28;01mfor\u001b[39;00m arg \u001b[38;5;129;01min\u001b[39;00m args_bind.arguments.keys()\n\u001b[32m    110\u001b[39m     \u001b[38;5;28;01mif\u001b[39;00m arg \u001b[38;5;129;01min\u001b[39;00m should_be_kwargs\n\u001b[32m    111\u001b[39m ]\n\u001b[32m    112\u001b[39m \u001b[38;5;28;01mif\u001b[39;00m warn_args:\n",
      "\u001b[36mFile \u001b[39m\u001b[32m/opt/homebrew/Cellar/python@3.13/3.13.3/Frameworks/Python.framework/Versions/3.13/lib/python3.13/inspect.py:3276\u001b[39m, in \u001b[36mSignature.bind_partial\u001b[39m\u001b[34m(self, *args, **kwargs)\u001b[39m\n\u001b[32m   3271\u001b[39m \u001b[38;5;28;01mdef\u001b[39;00m\u001b[38;5;250m \u001b[39m\u001b[34mbind_partial\u001b[39m(\u001b[38;5;28mself\u001b[39m, /, *args, **kwargs):\n\u001b[32m   3272\u001b[39m \u001b[38;5;250m    \u001b[39m\u001b[33;03m\"\"\"Get a BoundArguments object, that partially maps the\u001b[39;00m\n\u001b[32m   3273\u001b[39m \u001b[33;03m    passed `args` and `kwargs` to the function's signature.\u001b[39;00m\n\u001b[32m   3274\u001b[39m \u001b[33;03m    Raises `TypeError` if the passed arguments can not be bound.\u001b[39;00m\n\u001b[32m   3275\u001b[39m \u001b[33;03m    \"\"\"\u001b[39;00m\n\u001b[32m-> \u001b[39m\u001b[32m3276\u001b[39m     \u001b[38;5;28;01mreturn\u001b[39;00m \u001b[38;5;28;43mself\u001b[39;49m\u001b[43m.\u001b[49m\u001b[43m_bind\u001b[49m\u001b[43m(\u001b[49m\u001b[43margs\u001b[49m\u001b[43m,\u001b[49m\u001b[43m \u001b[49m\u001b[43mkwargs\u001b[49m\u001b[43m,\u001b[49m\u001b[43m \u001b[49m\u001b[43mpartial\u001b[49m\u001b[43m=\u001b[49m\u001b[38;5;28;43;01mTrue\u001b[39;49;00m\u001b[43m)\u001b[49m\n",
      "\u001b[36mFile \u001b[39m\u001b[32m/opt/homebrew/Cellar/python@3.13/3.13.3/Frameworks/Python.framework/Versions/3.13/lib/python3.13/inspect.py:3163\u001b[39m, in \u001b[36mSignature._bind\u001b[39m\u001b[34m(self, args, kwargs, partial)\u001b[39m\n\u001b[32m   3160\u001b[39m     parameters_ex = (param,)\n\u001b[32m   3161\u001b[39m     \u001b[38;5;28;01mbreak\u001b[39;00m\n\u001b[32m   3162\u001b[39m \u001b[38;5;28;01melif\u001b[39;00m (param.kind == _VAR_KEYWORD \u001b[38;5;129;01mor\u001b[39;00m\n\u001b[32m-> \u001b[39m\u001b[32m3163\u001b[39m                             \u001b[43mparam\u001b[49m\u001b[43m.\u001b[49m\u001b[43mdefault\u001b[49m \u001b[38;5;129;01mis\u001b[39;00m \u001b[38;5;129;01mnot\u001b[39;00m _empty):\n\u001b[32m   3164\u001b[39m     \u001b[38;5;66;03m# That's fine too - we have a default value for this\u001b[39;00m\n\u001b[32m   3165\u001b[39m     \u001b[38;5;66;03m# parameter.  So, lets start parsing `kwargs`, starting\u001b[39;00m\n\u001b[32m   3166\u001b[39m     \u001b[38;5;66;03m# with the current parameter\u001b[39;00m\n\u001b[32m   3167\u001b[39m     parameters_ex = (param,)\n\u001b[32m   3168\u001b[39m     \u001b[38;5;28;01mbreak\u001b[39;00m\n",
      "\u001b[36mFile \u001b[39m\u001b[32m/opt/homebrew/Cellar/python@3.13/3.13.3/Frameworks/Python.framework/Versions/3.13/lib/python3.13/inspect.py:2785\u001b[39m, in \u001b[36mParameter.default\u001b[39m\u001b[34m(self)\u001b[39m\n\u001b[32m   2781\u001b[39m \u001b[38;5;129m@property\u001b[39m\n\u001b[32m   2782\u001b[39m \u001b[38;5;28;01mdef\u001b[39;00m\u001b[38;5;250m \u001b[39m\u001b[34mname\u001b[39m(\u001b[38;5;28mself\u001b[39m):\n\u001b[32m   2783\u001b[39m     \u001b[38;5;28;01mreturn\u001b[39;00m \u001b[38;5;28mself\u001b[39m._name\n\u001b[32m-> \u001b[39m\u001b[32m2785\u001b[39m \u001b[38;5;129m@property\u001b[39m\n\u001b[32m   2786\u001b[39m \u001b[38;5;28;01mdef\u001b[39;00m\u001b[38;5;250m \u001b[39m\u001b[34mdefault\u001b[39m(\u001b[38;5;28mself\u001b[39m):\n\u001b[32m   2787\u001b[39m     \u001b[38;5;28;01mreturn\u001b[39;00m \u001b[38;5;28mself\u001b[39m._default\n\u001b[32m   2789\u001b[39m \u001b[38;5;129m@property\u001b[39m\n\u001b[32m   2790\u001b[39m \u001b[38;5;28;01mdef\u001b[39;00m\u001b[38;5;250m \u001b[39m\u001b[34mannotation\u001b[39m(\u001b[38;5;28mself\u001b[39m):\n",
      "\u001b[31mKeyboardInterrupt\u001b[39m: "
     ]
    }
   ],
   "source": [
    "import geopandas as gpd\n",
    "from shapely.geometry import box\n",
    "import numpy as np\n",
    "\n",
    "# 1. Load AOI polygon (as GeoDataFrame, from shapefile)\n",
    "aoi = gpd.read_file(\"Limites_Amazonia_Legal_2022_shp/Limites_Amazonia_Legal_2022.shp\").to_crs(\"EPSG:32721\")# 2. Define grid parameters (in meters, UTM)\n",
    "cell_size = 250  # meters\n",
    "\n",
    "# 3. Get bounds of AOI in UTM\n",
    "minx, miny, maxx, maxy = aoi.total_bounds\n",
    "\n",
    "# 4. Generate grid\n",
    "x_coords = np.arange(minx, maxx, cell_size)\n",
    "y_coords = np.arange(miny, maxy, cell_size)\n",
    "\n",
    "cells = []\n",
    "for x in x_coords:\n",
    "    for y in y_coords:\n",
    "        cell_geom = box(x, y, x+cell_size, y+cell_size)\n",
    "        cell_center = ((x + x + cell_size)/2, (y + y + cell_size)/2)\n",
    "        cells.append({\n",
    "            'cell_id': f\"{int(cell_center[0])}_{int(cell_center[1])}\",\n",
    "            'geometry': cell_geom,\n",
    "            'center': cell_center,\n",
    "            'score': 0\n",
    "        })\n",
    "\n",
    "grid_gdf = gpd.GeoDataFrame(cells, crs=\"EPSG:32721\")\n",
    "\n",
    "# 5. Mask to AOI\n",
    "grid_gdf = grid_gdf[grid_gdf.intersects(aoi.unary_union)]\n"
   ]
  },
  {
   "cell_type": "code",
   "execution_count": null,
   "metadata": {},
   "outputs": [],
   "source": [
    "# Sample: attach mean elevation (assuming 'elevation_raster' loaded with rasterio)\n",
    "import rasterio\n",
    "from rasterio.mask import mask\n",
    "\n",
    "with rasterio.open(\"srtm_dem.tif\") as src:\n",
    "    for idx, row in grid_gdf.iterrows():\n",
    "        geom = [row['geometry']]\n",
    "        try:\n",
    "            out_image, out_transform = mask(src, geom, crop=True)\n",
    "            mean_elev = out_image[out_image != src.nodata].mean()\n",
    "        except Exception:\n",
    "            mean_elev = np.nan\n",
    "        grid_gdf.at[idx, 'mean_elevation'] = mean_elev\n",
    "\n",
    "# Distance to water: Use shapely's distance method, using centroids and water polygons\n",
    "water_gdf = gpd.read_file(\"rivers_lakes.shp\").to_crs(grid_gdf.crs)\n",
    "water_union = water_gdf.unary_union\n",
    "\n",
    "grid_gdf['dist_to_water'] = grid_gdf.centroid.apply(lambda p: p.distance(water_union))\n",
    "\n",
    "# Known site buffer flag\n",
    "sites_gdf = gpd.read_file(\"archaeo_sites.shp\").to_crs(grid_gdf.crs)\n",
    "sites_buffer = sites_gdf.buffer(500)  # 500m buffer, adjust as needed\n",
    "sites_union = sites_buffer.unary_union\n",
    "\n",
    "grid_gdf['site_buffer'] = grid_gdf.geometry.apply(lambda g: g.intersects(sites_union))\n"
   ]
  }
 ],
 "metadata": {
  "kernelspec": {
   "display_name": "venv",
   "language": "python",
   "name": "python3"
  },
  "language_info": {
   "codemirror_mode": {
    "name": "ipython",
    "version": 3
   },
   "file_extension": ".py",
   "mimetype": "text/x-python",
   "name": "python",
   "nbconvert_exporter": "python",
   "pygments_lexer": "ipython3",
   "version": "3.13.3"
  }
 },
 "nbformat": 4,
 "nbformat_minor": 2
}

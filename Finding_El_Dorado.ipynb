{
  "cells": [
    {
      "cell_type": "code",
      "source": [
        "from google.colab import drive\n",
        "import os\n",
        "\n",
        "drive.mount('/content/drive')\n",
        "\n",
        "# Adjust this path to your google earth engine json\n",
        "key_file_path = '/content/drive/My Drive/colab_keys/gen-lang-client-0722638269-533d5c351802.json'\n",
        "\n",
        "# Check if the file exists at the specified path\n",
        "if not os.path.exists(key_file_path):\n",
        "    raise FileNotFoundError(f\"Key file not found at: {key_file_path}. Please check the path.\")\n",
        "\n",
        "# Set the environment variable\n",
        "os.environ[\"GOOGLE_APPLICATION_CREDENTIALS\"] = key_file_path\n",
        "\n",
        "print(f\"GOOGLE_APPLICATION_CREDENTIALS set to: {os.environ['GOOGLE_APPLICATION_CREDENTIALS']}\")\n",
        "\n",
        "# Now you can initialize Earth Engine\n",
        "# import ee\n",
        "# ee.Initialize(project='your-gcp-project-id') # Make sure to replace 'your-gcp-project-id'\n",
        "# print(ee.Image('srtm90_v4').getRegion(ee.Geometry.Point(-122.085, 37.422), 10).getInfo())"
      ],
      "metadata": {
        "colab": {
          "base_uri": "https://localhost:8080/"
        },
        "id": "WOcFryYQPRsO",
        "outputId": "699d2c29-ac3f-4c9a-ff32-4330f6c48660"
      },
      "execution_count": 3,
      "outputs": [
        {
          "output_type": "stream",
          "name": "stdout",
          "text": [
            "Mounted at /content/drive\n",
            "GOOGLE_APPLICATION_CREDENTIALS set to: /content/drive/My Drive/colab_keys/gen-lang-client-0722638269-533d5c351802.json\n"
          ]
        }
      ]
    },
    {
      "cell_type": "code",
      "execution_count": null,
      "metadata": {
        "colab": {
          "base_uri": "https://localhost:8080/"
        },
        "id": "i9QnCZmUKl9a",
        "outputId": "b385a641-8a70-45b7-fae9-bca127e56b93"
      },
      "outputs": [
        {
          "name": "stdout",
          "output_type": "stream",
          "text": [
            "Initialized empty Git repository in /content/amazon-scout/.git/\n"
          ]
        },
        {
          "name": "stderr",
          "output_type": "stream",
          "text": [
            "hint: Using 'master' as the name for the initial branch. This default branch name\n",
            "hint: is subject to change. To configure the initial branch name to use in all\n",
            "hint: of your new repositories, which will suppress this warning, call:\n",
            "hint: \n",
            "hint: \tgit config --global init.defaultBranch <name>\n",
            "hint: \n",
            "hint: Names commonly chosen instead of 'master' are 'main', 'trunk' and\n",
            "hint: 'development'. The just-created branch can be renamed via this command:\n",
            "hint: \n",
            "hint: \tgit branch -m <name>\n",
            "Switched to a new branch 'dev'\n"
          ]
        }
      ],
      "source": [
        "%%bash\n",
        "mkdir amazon-scout && cd amazon-scout\n",
        "git init && git switch -c dev\n",
        "mkdir -p data/raw/{dem,lidar,hydro} notebooks logs\n"
      ]
    },
    {
      "cell_type": "code",
      "execution_count": 16,
      "metadata": {
        "colab": {
          "base_uri": "https://localhost:8080/"
        },
        "id": "xtSRS1JjKvMl",
        "outputId": "403c588a-a1ee-4988-e90e-c5ab70a4df96"
      },
      "outputs": [
        {
          "output_type": "stream",
          "name": "stdout",
          "text": [
            "⏬ Downloading https://github.com/jaimergp/miniforge/releases/download/24.11.2-1_colab/Miniforge3-colab-24.11.2-1_colab-Linux-x86_64.sh...\n",
            "📦 Installing...\n",
            "📌 Adjusting configuration...\n",
            "🩹 Patching environment...\n",
            "⏲ Done in 0:00:07\n",
            "🔁 Restarting kernel...\n"
          ]
        }
      ],
      "source": [
        "# CELL 1: Install Mambaforge (a minimal conda installer with Mamba)\n",
        "# This will prompt you to restart the session. Do it.\n",
        "!pip install -q condacolab\n",
        "import condacolab\n",
        "condacolab.install()"
      ]
    },
    {
      "cell_type": "code",
      "source": [
        "# CELL 2: Install core geospatial and problematic libraries using Mamba\n",
        "# This will take some time as it resolves and installs many dependencies.\n",
        "# We're getting PDAL, RichDEM, GDAL (for rasterio/geopandas), and their Python bindings.\n",
        "# Shapely is also better from conda-forge.\n",
        "print(\"Installing PDAL, RichDEM, GDAL, Rasterio, GeoPandas, Shapely via Mamba...\")\n",
        "!mamba install -c conda-forge pdal python-pdal richdem gdal rasterio geopandas shapely tqdm -y --quiet\n",
        "print(\"Mamba installation complete.\")\n",
        "\n",
        "# Check versions of some key mamba-installed packages\n",
        "print(\"\\n--- Versions from Mamba ---\")\n",
        "!python -c \"import pdal; print(f'PDAL: {pdal.__version__}')\"\n",
        "!python -c \"import richdem; print(f'RichDEM: installed (version not easily accessible, but import works)')\"\n",
        "!python -c \"import rasterio; print(f'Rasterio: {rasterio.__version__}')\"\n",
        "!python -c \"import geopandas; print(f'GeoPandas: {geopandas.__version__}')\"\n",
        "!python -c \"import shapely; print(f'Shapely: {shapely.__version__}')\"\n",
        "!python -c \"import tqdm; print(f'TQDM: {tqdm.__version__}')\""
      ],
      "metadata": {
        "colab": {
          "base_uri": "https://localhost:8080/"
        },
        "id": "37mct5YVSHZ4",
        "outputId": "79c13f46-f47c-4bf5-d9be-dffc32c359b8"
      },
      "execution_count": 1,
      "outputs": [
        {
          "output_type": "stream",
          "name": "stdout",
          "text": [
            "Installing PDAL, RichDEM, GDAL, Rasterio, GeoPandas, Shapely via Mamba...\n",
            "Preparing transaction: ...working... done\n",
            "Verifying transaction: ...working... done\n",
            "Executing transaction: ...working... \n",
            "To enable CUDA support, UCX requires the CUDA Runtime library (libcudart).\n",
            "The library can be installed with the appropriate command below:\n",
            "\n",
            "* For CUDA 11, run:    conda install cudatoolkit cuda-version=11\n",
            "* For CUDA 12, run:    conda install cuda-cudart cuda-version=12\n",
            "\n",
            "If any of the packages you requested use CUDA then CUDA should already\n",
            "have been installed for you.\n",
            "\n",
            "\n",
            "\n",
            "To enable CUDA support, please follow UCX's instruction above.\n",
            "\n",
            "To additionally enable NCCL support, run:    conda install nccl\n",
            "\n",
            "\n",
            "\n",
            "On Linux, Open MPI is built with CUDA awareness but it is disabled by default.\n",
            "To enable it, please set the environment variable\n",
            "OMPI_MCA_opal_cuda_support=true\n",
            "before launching your MPI processes.\n",
            "Equivalently, you can set the MCA parameter in the command line:\n",
            "mpiexec --mca opal_cuda_support 1 ...\n",
            "Note that you might also need to set UCX_MEMTYPE_CACHE=n for CUDA awareness via\n",
            "UCX. Please consult UCX documentation for further details.\n",
            "\n",
            "\n",
            "done\n",
            "Mamba installation complete.\n",
            "\n",
            "--- Versions from Mamba ---\n",
            "pj_obj_create: Open of /usr/local/share/proj failed\n",
            "pj_obj_create: Open of /usr/local/share/proj failed\n",
            "pj_obj_create: Open of /usr/local/share/proj failed\n",
            "pj_obj_create: Open of /usr/local/share/proj failed\n",
            "pj_obj_create: Open of /usr/local/share/proj failed\n",
            "pj_obj_create: Open of /usr/local/share/proj failed\n",
            "pj_obj_create: Open of /usr/local/share/proj failed\n",
            "pj_obj_create: Open of /usr/local/share/proj failed\n",
            "PDAL: 3.4.5\n",
            "RichDEM: installed (version not easily accessible, but import works)\n",
            "Rasterio: 1.4.3\n",
            "GeoPandas: 1.0.1\n",
            "Shapely: 2.1.0\n",
            "TQDM: 4.67.1\n"
          ]
        }
      ]
    },
    {
      "cell_type": "code",
      "source": [
        "# CELL 3: Install remaining packages using pip (within the conda environment)\n",
        "print(\"\\nInstalling earthengine-api, geemap, openai, python-dotenv via pip...\")\n",
        "!pip install earthengine-api geemap openai python-dotenv -q --no-cache-dir\n",
        "print(\"Pip installation complete.\")\n",
        "\n",
        "# Check versions of pip-installed packages\n",
        "print(\"\\n--- Versions from Pip ---\")\n",
        "!python -c \"import ee; print(f'Earth Engine API: {ee.__version__}')\"\n",
        "!python -c \"import geemap; print(f'Geemap: {geemap.__version__}')\"\n",
        "!python -c \"import openai; print(f'OpenAI: {openai.__version__}')\"\n",
        "!python -c \"import dotenv; print(f'python-dotenv: (imported as dotenv)')\"\n",
        "\n",
        "print(\"\\nAll requested packages should now be installed.\")"
      ],
      "metadata": {
        "colab": {
          "base_uri": "https://localhost:8080/"
        },
        "id": "ioagBVJNSZrV",
        "outputId": "3be085ac-46fe-4999-ff89-18f6c9c365e8"
      },
      "execution_count": 2,
      "outputs": [
        {
          "output_type": "stream",
          "name": "stdout",
          "text": [
            "\n",
            "Installing earthengine-api, geemap, openai, python-dotenv via pip...\n",
            "  Preparing metadata (setup.py) ... \u001b[?25l\u001b[?25hdone\n",
            "\u001b[2K   \u001b[90m━━━━━━━━━━━━━━━━━━━━━━━━━━━━━━━━━━━━━━━━\u001b[0m \u001b[32m2.3/2.3 MB\u001b[0m \u001b[31m76.5 MB/s\u001b[0m eta \u001b[36m0:00:00\u001b[0m\n",
            "\u001b[2K   \u001b[90m━━━━━━━━━━━━━━━━━━━━━━━━━━━━━━━━━━━━━━━\u001b[0m \u001b[32m680.9/680.9 kB\u001b[0m \u001b[31m774.6 MB/s\u001b[0m eta \u001b[36m0:00:00\u001b[0m\n",
            "\u001b[2K   \u001b[90m━━━━━━━━━━━━━━━━━━━━━━━━━━━━━━━━━━━━━━━━\u001b[0m \u001b[32m13.3/13.3 MB\u001b[0m \u001b[31m262.7 MB/s\u001b[0m eta \u001b[36m0:00:00\u001b[0m\n",
            "\u001b[2K   \u001b[90m━━━━━━━━━━━━━━━━━━━━━━━━━━━━━━━━━━━━━━━━\u001b[0m \u001b[32m2.0/2.0 MB\u001b[0m \u001b[31m947.7 MB/s\u001b[0m eta \u001b[36m0:00:00\u001b[0m\n",
            "\u001b[2K   \u001b[90m━━━━━━━━━━━━━━━━━━━━━━━━━━━━━━━━━━━━━━━━\u001b[0m \u001b[32m1.2/1.2 MB\u001b[0m \u001b[31m313.8 MB/s\u001b[0m eta \u001b[36m0:00:00\u001b[0m\n",
            "\u001b[2K   \u001b[90m━━━━━━━━━━━━━━━━━━━━━━━━━━━━━━━━━━━━━━━━\u001b[0m \u001b[32m1.3/1.3 MB\u001b[0m \u001b[31m375.4 MB/s\u001b[0m eta \u001b[36m0:00:00\u001b[0m\n",
            "\u001b[2K   \u001b[90m━━━━━━━━━━━━━━━━━━━━━━━━━━━━━━━━━━━━━━━━\u001b[0m \u001b[32m16.1/16.1 MB\u001b[0m \u001b[31m206.8 MB/s\u001b[0m eta \u001b[36m0:00:00\u001b[0m\n",
            "\u001b[2K   \u001b[90m━━━━━━━━━━━━━━━━━━━━━━━━━━━━━━━━━━━━━━━━\u001b[0m \u001b[32m4.3/4.3 MB\u001b[0m \u001b[31m270.6 MB/s\u001b[0m eta \u001b[36m0:00:00\u001b[0m\n",
            "\u001b[2K   \u001b[90m━━━━━━━━━━━━━━━━━━━━━━━━━━━━━━━━━━━━━━━━\u001b[0m \u001b[32m1.1/1.1 MB\u001b[0m \u001b[31m509.2 MB/s\u001b[0m eta \u001b[36m0:00:00\u001b[0m\n",
            "\u001b[2K   \u001b[90m━━━━━━━━━━━━━━━━━━━━━━━━━━━━━━━━━━━━━━━\u001b[0m \u001b[32m604.3/604.3 kB\u001b[0m \u001b[31m755.6 MB/s\u001b[0m eta \u001b[36m0:00:00\u001b[0m\n",
            "\u001b[2K   \u001b[90m━━━━━━━━━━━━━━━━━━━━━━━━━━━━━━━━━━━━━━━━\u001b[0m \u001b[32m2.2/2.2 MB\u001b[0m \u001b[31m929.8 MB/s\u001b[0m eta \u001b[36m0:00:00\u001b[0m\n",
            "\u001b[2K   \u001b[90m━━━━━━━━━━━━━━━━━━━━━━━━━━━━━━━━━━━━━━━━\u001b[0m \u001b[32m1.6/1.6 MB\u001b[0m \u001b[31m940.7 MB/s\u001b[0m eta \u001b[36m0:00:00\u001b[0m\n",
            "\u001b[2K   \u001b[90m━━━━━━━━━━━━━━━━━━━━━━━━━━━━━━━━━━━━━━━━\u001b[0m \u001b[32m1.2/1.2 MB\u001b[0m \u001b[31m748.7 MB/s\u001b[0m eta \u001b[36m0:00:00\u001b[0m\n",
            "\u001b[?25h  Building wheel for pyperclip (setup.py) ... \u001b[?25l\u001b[?25hdone\n",
            "Pip installation complete.\n",
            "\n",
            "--- Versions from Pip ---\n",
            "Earth Engine API: 1.5.15\n",
            "Geemap: 0.35.3\n",
            "OpenAI: 1.78.1\n",
            "python-dotenv: (imported as dotenv)\n",
            "\n",
            "All requested packages should now be installed.\n"
          ]
        }
      ]
    },
    {
      "cell_type": "code",
      "source": [
        "import ee, os\n",
        "ee.Authenticate(authorization_code=None)\n",
        "ee.Initialize(project='gen-lang-client-0722638269')\n"
      ],
      "metadata": {
        "id": "rQRU5cP8Qh0B"
      },
      "execution_count": 8,
      "outputs": []
    },
    {
      "cell_type": "code",
      "source": [
        "bbox = ee.Geometry.BBox(-71, -13, -66, -9)      # Acre & Xingu\n",
        "srtm  = ee.Image('USGS/SRTMGL1_003').clip(bbox)  # 30 m DEM\n",
        "task  = ee.batch.Export.image.toDrive(\n",
        "    image=srtm,\n",
        "    description='srtm_sw_amazon',\n",
        "    scale=30, region=bbox, folder='dem')\n",
        "task.start()\n"
      ],
      "metadata": {
        "id": "RNDQwTGPUUgu"
      },
      "execution_count": 9,
      "outputs": []
    },
    {
      "cell_type": "code",
      "source": [
        "# --- Configuration ---\n",
        "# Direct download URL for the South America HydroRIVERS shapefile\n",
        "zip_file_url = \"https://data.hydrosheds.org/file/HydroRIVERS/HydroRIVERS_v10_sa_shp.zip\"\n",
        "\n",
        "# Desired local filename (you can keep it as the server provides or rename)\n",
        "# If you want to match your original name:\n",
        "local_zip_filename = \"SouthAmerica_HydroRIVERS_v10.zip\"\n",
        "# Or, to use the name from the server (simpler):\n",
        "# local_zip_filename = \"HydroRIVERS_v10_sa_shp.zip\" # Use this if you don't want to rename\n",
        "\n",
        "# Target directory for unzipping\n",
        "output_directory = \"data/raw/hydro\"\n",
        "\n",
        "# --- Step 1: Download the file using wget ---\n",
        "# The -O flag specifies the output filename.\n",
        "# The -q flag makes wget quiet (less output).\n",
        "print(f\"Downloading {zip_file_url} to {local_zip_filename}...\")\n",
        "!wget -q -O {local_zip_filename} {zip_file_url}\n",
        "print(\"Download complete.\")\n",
        "\n",
        "# --- Step 2: Create the target directory structure ---\n",
        "# The -p flag creates parent directories if they don't exist\n",
        "# and doesn't error if the directory already exists.\n",
        "print(f\"\\nCreating directory {output_directory}...\")\n",
        "!mkdir -p {output_directory}\n",
        "print(\"Directory created (if it didn't exist).\")\n",
        "\n",
        "# --- Step 3: Unzip the file into the target directory ---\n",
        "# The -d flag specifies the destination directory.\n",
        "# The -o flag overwrites files without prompting (useful if you re-run the cell).\n",
        "# The -q flag makes unzip quiet.\n",
        "print(f\"\\nUnzipping {local_zip_filename} to {output_directory}...\")\n",
        "!unzip -o -q {local_zip_filename} -d {output_directory}\n",
        "print(\"Unzipping complete.\")\n",
        "\n",
        "# --- Step 4: (Optional) List the contents of the directory to verify ---\n",
        "print(f\"\\nContents of {output_directory}:\")\n",
        "!ls {output_directory}\n",
        "\n",
        "# --- Step 5: (Optional) Remove the downloaded zip file to save space ---\n",
        "# Especially useful if you're working with many large files in Colab's limited storage.\n",
        "print(f\"\\nRemoving downloaded zip file: {local_zip_filename}...\")\n",
        "!rm {local_zip_filename}\n",
        "print(\"Zip file removed.\")\n",
        "\n",
        "print(\"\\n--- All steps completed ---\")"
      ],
      "metadata": {
        "colab": {
          "base_uri": "https://localhost:8080/"
        },
        "id": "VFxbWIw3UW-g",
        "outputId": "49759e68-808f-49c6-f105-63c99f08bcb0"
      },
      "execution_count": 11,
      "outputs": [
        {
          "output_type": "stream",
          "name": "stdout",
          "text": [
            "Downloading https://data.hydrosheds.org/file/HydroRIVERS/HydroRIVERS_v10_sa_shp.zip to SouthAmerica_HydroRIVERS_v10.zip...\n",
            "Download complete.\n",
            "\n",
            "Creating directory data/raw/hydro...\n",
            "Directory created (if it didn't exist).\n",
            "\n",
            "Unzipping SouthAmerica_HydroRIVERS_v10.zip to data/raw/hydro...\n",
            "Unzipping complete.\n",
            "\n",
            "Contents of data/raw/hydro:\n",
            "HydroRIVERS_TechDoc_v10.pdf  HydroRIVERS_v10_sa_shp\n",
            "\n",
            "Removing downloaded zip file: SouthAmerica_HydroRIVERS_v10.zip...\n",
            "Zip file removed.\n",
            "\n",
            "--- All steps completed ---\n"
          ]
        }
      ]
    },
    {
      "cell_type": "code",
      "source": [
        "import os\n",
        "from google.colab import userdata # Import the userdata module\n",
        "\n",
        "# Make sure the directory exists\n",
        "!mkdir -p data/raw/lidar\n",
        "\n",
        "# Delete any previous attempt to avoid confusion (optional, but good for testing)\n",
        "!rm -f data/raw/lidar/sample_dtm.tif\n",
        "\n",
        "# 1. Get the API key from Colab secrets using userdata.get()\n",
        "ot_key_from_colab = userdata.get('OT_API_KEY') # Use the exact name of your secret\n",
        "\n",
        "# 2. Check if the key was actually retrieved\n",
        "if ot_key_from_colab:\n",
        "    print(f\"Successfully retrieved OT_API_KEY.\") # Confirmation\n",
        "\n",
        "    # 3. Construct the command string using an f-string to insert the key\n",
        "    # Using slightly larger coordinates just in case the previous tiny area had no data\n",
        "    curl_command_str = f\"curl -L -o data/raw/lidar/sample_dtm.tif \\\n",
        "    \\\"https://portal.opentopography.org/API/globaldem?demtype=SRTMGL1&south=37.0&north=37.05&west=-122.0&east=-121.95&outputFormat=GTiff&API_Key={ot_key_from_colab}\\\"\"\n",
        "\n",
        "    # Print the command to verify it looks correct (optional, good for debugging)\n",
        "    print(f\"Executing command: {curl_command_str}\")\n",
        "\n",
        "    # 4. Execute the constructed command using IPython's system call\n",
        "    get_ipython().system(curl_command_str)\n",
        "\n",
        "else:\n",
        "    print(\"Failed to retrieve OT_API_KEY using userdata.get().\")\n",
        "    print(\"Please double-check:\")\n",
        "    print(\"1. The secret name in Colab UI is exactly 'OT_API_KEY'.\")\n",
        "    print(\"2. 'Notebook access' for this secret is enabled.\")\n",
        "    print(\"3. You have run this cell after any recent changes to secrets or session restarts.\")\n",
        "\n",
        "# 5. Check the result\n",
        "print(\"\\n--- Checking downloaded file ---\")\n",
        "!ls -lh data/raw/lidar/sample_dtm.tif\n",
        "print(\"\\n--- Running gdalinfo ---\")\n",
        "!gdalinfo data/raw/lidar/sample_dtm.tif\n",
        "print(\"\\n--- Displaying first few lines of the file (if gdalinfo failed) ---\")\n",
        "!head -n 5 data/raw/lidar/sample_dtm.tif"
      ],
      "metadata": {
        "colab": {
          "base_uri": "https://localhost:8080/"
        },
        "id": "u85SKaDPcfUe",
        "outputId": "3ebb6f14-90f9-49cc-e40b-258019e420cf"
      },
      "execution_count": 2,
      "outputs": [
        {
          "output_type": "stream",
          "name": "stdout",
          "text": [
            "Successfully retrieved OT_API_KEY.\n",
            "Executing command: curl -L -o data/raw/lidar/sample_dtm.tif     \"https://portal.opentopography.org/API/globaldem?demtype=SRTMGL1&south=37.0&north=37.05&west=-122.0&east=-121.95&outputFormat=GTiff&API_Key=146361fcd7787a40eed58ebf2d59fec0\"\n",
            "curl: /usr/local/lib/libcurl.so.4: no version information available (required by curl)\n",
            "  % Total    % Received % Xferd  Average Speed   Time    Time     Time  Current\n",
            "                                 Dload  Upload   Total   Spent    Left  Speed\n",
            "100 40295    0 40295    0     0   3607      0 --:--:--  0:00:11 --:--:--  9216\n",
            "\n",
            "--- Checking downloaded file ---\n",
            "-rw-r--r-- 1 root root 40K May 16 00:54 data/raw/lidar/sample_dtm.tif\n",
            "\n",
            "--- Running gdalinfo ---\n",
            "Driver: GTiff/GeoTIFF\n",
            "Warning 1: PROJ: proj_create_from_database: Open of /usr/local/share/proj failed\n",
            "Files: data/raw/lidar/sample_dtm.tif\n",
            "Size is 180, 180\n",
            "Coordinate System is:\n",
            "GEOGCRS[\"WGS 84\",\n",
            "    DATUM[\"World Geodetic System 1984\",\n",
            "        ELLIPSOID[\"WGS 84\",6378137,298.257223563,\n",
            "            LENGTHUNIT[\"metre\",1,\n",
            "                ID[\"EPSG\",9001]]]],\n",
            "    PRIMEM[\"Greenwich\",0,\n",
            "        ANGLEUNIT[\"degree\",0.0174532925199433,\n",
            "            ID[\"EPSG\",9122]]],\n",
            "    CS[ellipsoidal,2],\n",
            "        AXIS[\"latitude\",north,\n",
            "            ORDER[1],\n",
            "            ANGLEUNIT[\"degree\",0.0174532925199433,\n",
            "                ID[\"EPSG\",9122]]],\n",
            "        AXIS[\"longitude\",east,\n",
            "            ORDER[2],\n",
            "            ANGLEUNIT[\"degree\",0.0174532925199433,\n",
            "                ID[\"EPSG\",9122]]]]\n",
            "Data axis to CRS axis mapping: 2,1\n",
            "Origin = (-122.000138888881210,37.050138888885854)\n",
            "Pixel Size = (0.000277777777778,-0.000277777777778)\n",
            "Metadata:\n",
            "  AREA_OR_POINT=Area\n",
            "Image Structure Metadata:\n",
            "  LAYOUT=COG\n",
            "  COMPRESSION=LZW\n",
            "  INTERLEAVE=BAND\n",
            "Corner Coordinates:\n",
            "Upper Left  (-122.0001389,  37.0501389) (122d 0' 0.50\"W, 37d 3' 0.50\"N)\n",
            "Lower Left  (-122.0001389,  37.0001389) (122d 0' 0.50\"W, 37d 0' 0.50\"N)\n",
            "Upper Right (-121.9501389,  37.0501389) (121d57' 0.50\"W, 37d 3' 0.50\"N)\n",
            "Lower Right (-121.9501389,  37.0001389) (121d57' 0.50\"W, 37d 0' 0.50\"N)\n",
            "Center      (-121.9751389,  37.0251389) (121d58'30.50\"W, 37d 1'30.50\"N)\n",
            "Band 1 Block=256x256 Type=Int16, ColorInterp=Gray\n",
            "  NoData Value=-32768\n",
            "\n",
            "--- Displaying first few lines of the file (if gdalinfo failed) ---\n",
            "II*\u0000�\u0000\u0000\u0000GDAL_STRUCTURAL_METADATA_SIZE=000140 bytes\n",
            "LAYOUT=IFDS_BEFORE_DATA\n",
            "BLOCK_ORDER=ROW_MAJOR\n",
            "BLOCK_LEADER=SIZE_AS_UINT4\n",
            "BLOCK_TRAILER=LAST_4_BYTES_REPEATED\n"
          ]
        }
      ]
    },
    {
      "cell_type": "code",
      "source": [
        "!gdaldem hillshade data/raw/lidar/sample_dtm.tif \\\n",
        "                data/raw/lidar/sample_hs.tif -z 1.5\n"
      ],
      "metadata": {
        "colab": {
          "base_uri": "https://localhost:8080/"
        },
        "id": "PQuZSOK9dO7z",
        "outputId": "bf676716-0b8f-46fa-8ef0-cca94f500f9f"
      },
      "execution_count": 3,
      "outputs": [
        {
          "output_type": "stream",
          "name": "stdout",
          "text": [
            "Warning 1: PROJ: proj_create_from_database: Open of /usr/local/share/proj failed\n",
            "0ERROR 1: PROJ: proj_create_from_name: Open of /usr/local/share/proj failed\n",
            "...10...20...30...40...50...60...70...80...90...100 - done.\n"
          ]
        }
      ]
    },
    {
      "cell_type": "code",
      "source": [
        "!gdal_translate -outsize 512 512 -of PNG \\\n",
        "              data/raw/lidar/sample_hs.tif \\\n",
        "              data/raw/lidar/hs_512.png\n"
      ],
      "metadata": {
        "colab": {
          "base_uri": "https://localhost:8080/"
        },
        "id": "lzAJ9A7NdP_J",
        "outputId": "ca1d862a-929b-4179-9c8a-e5981bd75d04"
      },
      "execution_count": 4,
      "outputs": [
        {
          "output_type": "stream",
          "name": "stdout",
          "text": [
            "Input file size is 180, 180\n",
            "0...10...20...30...40...50...60...70...80...90...100 - done.\n"
          ]
        }
      ]
    },
    {
      "cell_type": "code",
      "source": [
        "from PIL import Image\n",
        "import base64, io, sqlite3, hashlib, openai, os, datetime as dt\n",
        "\n",
        "def encode_png(path):\n",
        "    with Image.open(path) as im:\n",
        "        buf = io.BytesIO(); im.save(buf, format=\"PNG\")\n",
        "        return \"data:image/png;base64,\" + base64.b64encode(buf.getvalue()).decode()\n",
        "\n",
        "def log_result(img_md5, resp_json):\n",
        "    with sqlite3.connect('logs/day1.sqlite') as db:\n",
        "        db.execute(\"\"\"CREATE TABLE IF NOT EXISTS calls\n",
        "                   (ts TEXT, img_md5 TEXT, response TEXT)\"\"\")\n",
        "        db.execute(\"INSERT INTO calls VALUES (?,?,?)\",\n",
        "                   (dt.datetime.utcnow(), img_md5, str(resp_json)))\n"
      ],
      "metadata": {
        "id": "CfOBWDLBjqRH"
      },
      "execution_count": 5,
      "outputs": []
    },
    {
      "cell_type": "code",
      "source": [
        "from google.colab import userdata\n",
        "\n",
        "!mkdir -p logs\n",
        "\n",
        "PROMPT = \"\"\"You are an archaeological scout.\n",
        "Return JSON: {\"label\": \"yes\"|\"no\"|\"maybe\", \"confidence\": 0-1}\n",
        "Criteria: convex or rectilinear shape 70-400 m across; embankment rim visible.\"\"\"\n",
        "img_path = \"data/raw/lidar/hs_512.png\"\n",
        "b64      = encode_png(img_path)\n",
        "img_md5  = hashlib.md5(open(img_path,'rb').read()).hexdigest()\n",
        "api_key_from_colab = userdata.get(\"OPENAI_API_KEY\")\n",
        "\n",
        "client = openai.OpenAI(api_key=api_key_from_colab)\n",
        "resp   = client.chat.completions.create(\n",
        "    model=\"gpt-4o-2024-05-13\",\n",
        "    messages=[{\"role\":\"user\",\n",
        "               \"content\":[{\"type\":\"text\",\"text\":PROMPT},\n",
        "                          {\"type\":\"image_url\",\"image_url\":{\"url\":b64}}]}])\n",
        "log_result(img_md5, resp.choices[0].message.content)\n"
      ],
      "metadata": {
        "id": "PcDbB1Ghjtyo"
      },
      "execution_count": 7,
      "outputs": []
    },
    {
      "cell_type": "code",
      "source": [
        "import sqlite3\n",
        "import pandas as pd # For easier display\n",
        "\n",
        "# Connect to the database\n",
        "conn = sqlite3.connect('logs/day1.sqlite')\n",
        "cursor = conn.cursor()\n",
        "\n",
        "# Fetch all data from the 'calls' table\n",
        "cursor.execute(\"SELECT * FROM calls\")\n",
        "rows = cursor.fetchall()\n",
        "\n",
        "# Get column names\n",
        "column_names = [description[0] for description in cursor.description]\n",
        "\n",
        "# Close the connection\n",
        "conn.close()\n",
        "\n",
        "# Display the data using pandas DataFrame for nice formatting\n",
        "df_logs = pd.DataFrame(rows, columns=column_names)\n",
        "print(df_logs.to_string()) # .to_string() ensures the full content of the response is printed\n",
        "\n",
        "# If you only have one row so far, you can also just print it:\n",
        "for row in rows:\n",
        "  print(f\"Timestamp: {row[0]}\")\n",
        "  print(f\"Image MD5: {row[1]}\")\n",
        "  print(f\"GPT Response: {row[2]}\") # This is the JSON string\n",
        "  print(\"-\" * 30)"
      ],
      "metadata": {
        "colab": {
          "base_uri": "https://localhost:8080/"
        },
        "id": "04fqvcW7nA5I",
        "outputId": "e73e597f-9329-4ac0-d1e0-cb544e235964"
      },
      "execution_count": 8,
      "outputs": [
        {
          "output_type": "stream",
          "name": "stdout",
          "text": [
            "                           ts                           img_md5                                                      response\n",
            "0  2025-05-16 00:57:31.256347  7310cf4e4c40ca32712675d38ff06b87  ```json\\n{\\n  \"label\": \"maybe\",\\n  \"confidence\": 0.6\\n}\\n```\n",
            "Timestamp: 2025-05-16 00:57:31.256347\n",
            "Image MD5: 7310cf4e4c40ca32712675d38ff06b87\n",
            "GPT Response: ```json\n",
            "{\n",
            "  \"label\": \"maybe\",\n",
            "  \"confidence\": 0.6\n",
            "}\n",
            "```\n",
            "------------------------------\n"
          ]
        }
      ]
    },
    {
      "cell_type": "code",
      "source": [
        "from IPython.display import Image, display\n",
        "\n",
        "image_path_to_display = 'data/raw/lidar/hs_512.png'\n",
        "display(Image(filename=image_path_to_display))"
      ],
      "metadata": {
        "colab": {
          "base_uri": "https://localhost:8080/",
          "height": 529
        },
        "id": "e8i5L6OEnHd6",
        "outputId": "817ed269-0972-45e0-cfe1-93501799082a"
      },
      "execution_count": 9,
      "outputs": [
        {
          "output_type": "display_data",
          "data": {
            "image/png": "[encoded data removed]",
            "text/plain": [
              "<IPython.core.display.Image object>"
            ]
          },
          "metadata": {}
        }
      ]
    }
  ],
  "metadata": {
    "colab": {
      "machine_shape": "hm",
      "provenance": []
    },
    "kernelspec": {
      "display_name": "Python 3",
      "name": "python3"
    },
    "language_info": {
      "name": "python"
    }
  },
  "nbformat": 4,
  "nbformat_minor": 0
}